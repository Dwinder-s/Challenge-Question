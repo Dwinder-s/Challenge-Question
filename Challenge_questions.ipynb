{
  "nbformat": 4,
  "nbformat_minor": 0,
  "metadata": {
    "colab": {
      "provenance": [],
      "authorship_tag": "ABX9TyPVHiY2HEkHuTeEMG1sb0ak",
      "include_colab_link": true
    },
    "kernelspec": {
      "name": "python3",
      "display_name": "Python 3"
    },
    "language_info": {
      "name": "python"
    }
  },
  "cells": [
    {
      "cell_type": "markdown",
      "metadata": {
        "id": "view-in-github",
        "colab_type": "text"
      },
      "source": [
        "<a href=\"https://colab.research.google.com/github/Dwinder-s/Challenge-Question/blob/main/Challenge_questions.ipynb\" target=\"_parent\"><img src=\"https://colab.research.google.com/assets/colab-badge.svg\" alt=\"Open In Colab\"/></a>"
      ]
    },
    {
      "cell_type": "code",
      "execution_count": 7,
      "metadata": {
        "colab": {
          "base_uri": "https://localhost:8080/"
        },
        "id": "eJS2B1WItxUX",
        "outputId": "d8090dad-ea7e-406f-de49-edb27d07c75b"
      },
      "outputs": [
        {
          "output_type": "stream",
          "name": "stdout",
          "text": [
            "['2', '5', '7', 'Aman', 'Ram', 'Shyam']\n",
            "[2, 5, 7, 'Aman', 'Ram', 'Shyam']\n"
          ]
        }
      ],
      "source": [
        "L=[\"Ram\",  \"Shyam\",  \"Aman\", 5, 2, 7]\n",
        "L=[str(i) for i in L]\n",
        "\n",
        "L.sort()\n",
        "print(L)\n",
        "\n",
        "L1=[]\n",
        "for i in L:\n",
        "  try:\n",
        "    L1.append(int(i))\n",
        "  except:\n",
        "    L1.append(i)\n",
        "\n",
        "print(L1)"
      ]
    }
  ]
}